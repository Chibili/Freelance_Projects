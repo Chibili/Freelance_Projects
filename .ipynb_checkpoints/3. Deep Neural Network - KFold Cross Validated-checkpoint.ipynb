{
 "cells": [
  {
   "cell_type": "markdown",
   "metadata": {},
   "source": [
    "# 3. Deep Neural Network - KFold Cross Validated\n",
    "+ (a) City Mileage CO2 Prediction\n",
    "+ (b) Highway Mileage CO2 Prediction\n",
    "+ (c) Subtract Highway from City Predictions to get CO2 Savings"
   ]
  },
  {
   "cell_type": "code",
   "execution_count": 102,
   "metadata": {},
   "outputs": [],
   "source": [
    "# Load Libraries\n",
    "import pandas as pd\n",
    "import numpy as np\n",
    "import matplotlib.pyplot as plt\n",
    "plt.style.use('ggplot')\n",
    "import seaborn as sns\n",
    "import pandas_profiling as pp\n",
    "pip install https://github.com/pandas-profiling/pandas-profiling/archive/master.zip\n",
    "import mpl_toolkits\n",
    "from sklearn.metrics import mean_squared_error\n",
    "from sklearn.metrics import mean_absolute_error\n",
    "from math import sqrt\n",
    "from sklearn.metrics import r2_score\n",
    "from sklearn.preprocessing import StandardScaler \n",
    "\n",
    "from sklearn.linear_model import ElasticNet\n",
    "from sklearn.linear_model import ElasticNetCV\n",
    "\n",
    "from sklearn import linear_model\n",
    "from sklearn.linear_model import LinearRegression\n",
    "from sklearn.linear_model import Ridge\n",
    "from sklearn.linear_model import Lasso\n",
    "from sklearn.model_selection import GridSearchCV\n",
    "from sklearn import metrics\n",
    "\n",
    "import tensorflow as tf\n",
    "from keras import models, layers\n",
    "from tensorflow import keras\n",
    "from tensorflow.keras.layers import Dense\n",
    "from keras.models import Sequential\n",
    "from pylab import rcParams\n",
    "\n",
    "pip install plotly\n",
    "from plotly.subplots import make_subplots\n",
    "import plotly.graph_objects as go\n",
    "import math\n",
    "\n",
    "from matplotlib import rc\n",
    "from sklearn.model_selection import train_test_split\n",
    "from sklearn.model_selection import KFold\n",
    "\n",
    "# Modeling Libraries\n",
    "from sklearn import linear_model\n",
    "from sklearn.metrics import make_scorer\n",
    "from sklearn.ensemble import BaggingRegressor\n",
    "from sklearn.ensemble import RandomForestRegressor\n",
    "from sklearn import svm\n",
    "from sklearn.metrics import r2_score\n",
    "from sklearn.ensemble import AdaBoostRegressor\n",
    "from sklearn.model_selection import cross_val_score\n",
    "from sklearn.tree import DecisionTreeRegressor\n",
    "from subprocess import check_output\n",
    "\n",
    "%matplotlib inline\n",
    "\n",
    "%config InlineBackend.figure_format='retina'\n",
    "sns.set(style='whitegrid', palette='muted', font_scale=1.5)\n",
    "rcParams['figure.figsize'] = 16, 10\n",
    "RANDOM_SEED = 42\n",
    "np.random.seed(RANDOM_SEED)\n",
    "tf.random.set_seed(RANDOM_SEED)\n",
    "\n",
    "import os\n",
    "\n",
    "# Hide Warnings\n",
    "import warnings\n",
    "warnings.filterwarnings('ignore')"
   ]
  },
  {
   "cell_type": "markdown",
   "metadata": {},
   "source": [
    "# (a) City Mileage CO2 Prediction"
   ]
  },
  {
   "cell_type": "code",
   "execution_count": 103,
   "metadata": {},
   "outputs": [],
   "source": [
    "# Loading the cleaned data\n",
    "df = pd.read_csv('CO2_Cleaned.csv')"
   ]
  },
  {
   "cell_type": "code",
   "execution_count": 104,
   "metadata": {},
   "outputs": [],
   "source": [
    "df = df.drop(['Hway_Mileage', 'Min_Wght'], axis = 1)\n",
    "\n",
    "target_col = \"CO2\"\n",
    "\n",
    "x = df.loc[:, df.columns != target_col].values\n",
    "y = df.loc[:, target_col].values"
   ]
  },
  {
   "cell_type": "code",
   "execution_count": 105,
   "metadata": {},
   "outputs": [
    {
     "name": "stdout",
     "output_type": "stream",
     "text": [
      "Fold #1\n",
      "Fold Score (R2): 0.9975081768969356\n",
      "Fold Score (MSE): 0.00013628340908664318\n",
      "Fold Score (RMSE): 0.011674048530250471\n",
      "Fold #2\n",
      "Fold Score (R2): 0.9978088830708801\n",
      "Fold Score (MSE): 0.00011753661399912413\n",
      "Fold Score (RMSE): 0.010841430440634858\n",
      "Fold #3\n",
      "Fold Score (R2): 0.9977814984966893\n",
      "Fold Score (MSE): 0.00011993178437999322\n",
      "Fold Score (RMSE): 0.010951337104664125\n",
      "Fold #4\n",
      "Fold Score (R2): 0.9975483644424801\n",
      "Fold Score (MSE): 0.00013980383449482722\n",
      "Fold Score (RMSE): 0.011823867154819832\n",
      "Fold #5\n",
      "Fold Score (R2): 0.9913757576306896\n",
      "Fold Score (MSE): 0.0004780845516104918\n",
      "Fold Score (RMSE): 0.02186514467389804\n",
      "\n",
      "Cross-validated (R2): 0.9963941904560855\n",
      "Cross-validated (MSE): 0.00019831522331082853\n",
      "Cross-validated Score (RMSE): 0.014082443797538428\n",
      "Holdout (R2): 0.9916729748018442\n",
      "Holdout (MSE): 0.000450207122717228\n",
      "Holdout Score (RMSE): 0.02121808480323396\n"
     ]
    }
   ],
   "source": [
    "from sklearn.model_selection import train_test_split\n",
    "import pandas as pd\n",
    "import os\n",
    "import numpy as np\n",
    "from sklearn import metrics\n",
    "from scipy.stats import zscore\n",
    "from sklearn.model_selection import KFold\n",
    "\n",
    "# Keep a 10% holdout\n",
    "x_main, x_holdout, y_main, y_holdout = train_test_split(    \n",
    "    x, y, test_size=0.10) \n",
    "\n",
    "##########################################################################\n",
    "#                   CROSS-VALIDATION WITH KFOLD \n",
    "##########################################################################\n",
    "\n",
    "kf = KFold(5)\n",
    "    \n",
    "oos_y = []\n",
    "oos_pred = []\n",
    "fold = 0\n",
    "for train, test in kf.split(x_main):        \n",
    "    fold+=1\n",
    "    print(f\"Fold #{fold}\")\n",
    "        \n",
    "    x_train = x_main[train]\n",
    "    y_train = y_main[train]\n",
    "    x_test = x_main[test]\n",
    "    y_test = y_main[test]\n",
    "    \n",
    "    tf.keras.mixed_precision.experimental.set_policy('float64')\n",
    "    np.random.seed(10)\n",
    "    classifier = Sequential()\n",
    "\n",
    "##########################################################################\n",
    "#                   MODEL DEFINITION\n",
    "##########################################################################\n",
    "\n",
    "    classifier.add(Dense(64, kernel_initializer = 'uniform', activation = 'relu', input_dim = x.shape[1])) \n",
    "    classifier.add(layers.Dense(16, activation='relu'))\n",
    "    classifier.add(layers.Dense(8, activation='relu'))\n",
    "    classifier.add(Dense(1, kernel_initializer = 'uniform'))\n",
    "    classifier.add(layers.Dropout(0.01))\n",
    "    classifier.add(layers.Dense(1))\n",
    "    \n",
    "    classifier.compile(optimizer = 'adam', loss = 'mean_squared_error')        \n",
    "    \n",
    "    history = classifier.fit(x_train,y_train,validation_data=(x_test, y_test),\n",
    "              verbose=0,epochs=100)\n",
    "    \n",
    "    pred = classifier.predict(x_test)\n",
    "    \n",
    "    oos_y.append(y_test)\n",
    "    oos_pred.append(pred) \n",
    "\n",
    "    \n",
    "##########################################################################\n",
    "#                  MEASURE EVALUATION: R2 + MSE + RMSE\n",
    "##########################################################################\n",
    "    \n",
    "    #1. Root Sqaured Error\n",
    "    R2 = r2_score(pred,y_test)\n",
    "    print(f\"Fold Score (R2): {R2}\")\n",
    "    \n",
    "    #2. Mean Squared Error\n",
    "    MSE = mean_squared_error(pred,y_test)\n",
    "    print(f\"Fold Score (MSE): {MSE}\")\n",
    "\n",
    "    #3. Root Mean Sqaured Error\n",
    "    RMSE = np.sqrt(metrics.mean_squared_error(pred,y_test))\n",
    "    print(f\"Fold Score (RMSE): {RMSE}\")\n",
    "\n",
    "# Create OOS Predictions & Measure Errors\n",
    "oos_y = np.concatenate(oos_y)\n",
    "oos_pred = np.concatenate(oos_pred)\n",
    "\n",
    "RMSE = np.sqrt(metrics.mean_squared_error(oos_pred,oos_y))\n",
    "\n",
    "R2 = r2_score(oos_pred,oos_y)\n",
    "\n",
    "MSE = mean_squared_error(oos_pred,oos_y)\n",
    "\n",
    "print()\n",
    "print(f\"Cross-validated (R2): {R2}\")\n",
    "print(f\"Cross-validated (MSE): {MSE}\")\n",
    "print(f\"Cross-validated Score (RMSE): {RMSE}\")   \n",
    "    \n",
    "# Cross-Validated Prediction\n",
    "holdout_pred = classifier.predict(x_holdout)\n",
    "\n",
    "R2 = r2_score(holdout_pred,y_holdout)\n",
    "print(f\"Holdout (R2): {R2}\")\n",
    "\n",
    "MSE = mean_squared_error(holdout_pred,y_holdout)\n",
    "print(f\"Holdout (MSE): {MSE}\")\n",
    "\n",
    "RMSE = np.sqrt(metrics.mean_squared_error(holdout_pred,y_holdout))\n",
    "print(f\"Holdout Score (RMSE): {RMSE}\")\n",
    "\n",
    "# Write the cross-validated prediction\n",
    "oos_y = pd.DataFrame(oos_y)\n",
    "oos_pred = pd.DataFrame(oos_pred)\n",
    "\n",
    "City = pd.concat( [oos_y, oos_pred],axis=1 )\n"
   ]
  },
  {
   "cell_type": "code",
   "execution_count": 106,
   "metadata": {},
   "outputs": [
    {
     "data": {
      "application/vnd.plotly.v1+json": {
       "config": {
        "plotlyServerURL": "https://plot.ly"
       },
       "data": [
        {
         "name": "Train",
         "type": "scattergl",
         "y": [
          3.781242386297489,
          0.30364996578346665,
          0.23363448893086275,
          0.2803013334221044,
          0.2235507585842495,
          0.22728120122083575,
          0.2552143759072263,
          0.24222624805567033,
          0.19548619275010012,
          0.19779034676189927,
          0.19820480833776702,
          0.18129128051220114,
          0.1673300230584754,
          0.17689160486500774,
          0.1410534058966252,
          0.13969233878940282,
          0.12256875465605727,
          0.11299920665032041,
          0.10044421884608054,
          0.08836208377768497,
          0.07369052717623786,
          0.07236927373431078,
          0.06609724135559031,
          0.042720871624157095,
          0.04139359355503186,
          0.035704474812684725,
          0.03077782240084327,
          0.02702499290860946,
          0.021420450601443552,
          0.015284715883311966,
          0.012990801574365081,
          0.010182626602874051,
          0.008667486181483212,
          0.006144194582623677,
          0.005723878900356573,
          0.00422015781272345,
          0.0024088289877161424,
          0.002509881954566277,
          0.0018652186652316867,
          0.0015634887559880827,
          0.0014089495396265416,
          0.0012845281580765558,
          0.0012333042752320884,
          0.0010025173614053833,
          0.001101700158210931,
          0.0011352197691254292,
          0.0009969573699380222,
          0.001017327513206056,
          0.0008764707564806553,
          0.0009079062545428759,
          0.0009660433910000124,
          0.0009672887817480326,
          0.000992687430269801,
          0.0009121073519629099,
          0.0009421947221255173,
          0.0008572597582919609,
          0.000988948968348101,
          0.0008238597202035897,
          0.0008561319013075754,
          0.0008554354321549957,
          0.0009133876170611721,
          0.0009043641819163939,
          0.0009116033968634056,
          0.0007943454721426207,
          0.000874546823047653,
          0.0008270313468767036,
          0.0009535515554800285,
          0.0008980153515715718,
          0.0008647753741354146,
          0.0007055194021638951,
          0.000789646973992829,
          0.0009269491367065801,
          0.0009016644897557728,
          0.0007458976427672215,
          0.0007809733382457002,
          0.0007512674861220982,
          0.0009297562525847371,
          0.0009098337984840074,
          0.0009062938479252548,
          0.0009166026717194755,
          0.000915677960268235,
          0.0008446793756964609,
          0.0009144664276408126,
          0.0008393451851481698,
          0.0008253145093935232,
          0.0009691165610625946,
          0.0008544918332766073,
          0.0008992992190838488,
          0.0008659591519626713,
          0.0007093018226367119,
          0.0008331395499048741,
          0.000894305515324898,
          0.0008364697217258318,
          0.0009371811579345786,
          0.0009071100444981734,
          0.0009836200468279965,
          0.0007192334941814396,
          0.0007044004344778625,
          0.0006676828500476777,
          0.0008054654089824049
         ]
        },
        {
         "name": "Validation",
         "type": "scattergl",
         "y": [
          0.05015979727961097,
          0.011721806600689888,
          0.00784782030018584,
          0.006295042135132215,
          0.00469642581778599,
          0.0043468003388956135,
          0.003509083002760385,
          0.0028565557730769434,
          0.0028381639385222524,
          0.0023993237558126383,
          0.004879754744060035,
          0.005139013910979067,
          0.002358270908877478,
          0.0017895844348448384,
          0.006313928825994425,
          0.0012110189418982917,
          0.0015603950803479997,
          0.002351654883687787,
          0.0021798453131325864,
          0.0009382375940110702,
          0.0013423453045734836,
          0.0009556548263357471,
          0.0010320724542268907,
          0.0009178007559781746,
          0.0014216524553145276,
          0.0009554031631193822,
          0.0016949785519056757,
          0.0011289195541501788,
          0.0014539961720658153,
          0.0015053866241722953,
          0.0016117056446993854,
          0.0010047822244797736,
          0.0009374042791756882,
          0.001005360644056029,
          0.0018699758483511357,
          0.0007114441764404995,
          0.0006045700275627324,
          0.0005161013348440306,
          0.0004730903940665971,
          0.0006608499880035128,
          0.0005639363821517127,
          0.0005199220226424706,
          0.0004908504080688872,
          0.0003999036441094146,
          0.00039824921353007875,
          0.00037292112211339596,
          0.0003916451081631949,
          0.0004827660369645774,
          0.00034537849818175033,
          0.0004017822839549569,
          0.000511499199350413,
          0.00039899973272289845,
          0.0003276313452734283,
          0.00031776270642782197,
          0.0003174603506283314,
          0.00027055932975240347,
          0.00026265090850245546,
          0.00028278035896011174,
          0.00026472775475810007,
          0.00043918869109702355,
          0.000360638048260517,
          0.00025825427616741356,
          0.0002675981168836994,
          0.00026769209915512,
          0.0005073337139872573,
          0.0002711780688074943,
          0.0002336063094836145,
          0.00027946160421900984,
          0.0003682458069435022,
          0.00028401249663543866,
          0.0002924991234490024,
          0.0002643155273447204,
          0.0006721093696256104,
          0.00023087041671665737,
          0.00024314197460874733,
          0.00022597800545232007,
          0.00024676338156662573,
          0.0002961507405201351,
          0.0002337341288193415,
          0.0003105286477907396,
          0.00044376985466718533,
          0.00031180483217433156,
          0.00023155589805506409,
          0.00024312703474923896,
          0.00022785954084233862,
          0.00030324621462486553,
          0.0002709577374665071,
          0.0003021221390336122,
          0.00025275941090812087,
          0.00045749434448836906,
          0.00022336819096789983,
          0.00024147980089292905,
          0.00024683444367787507,
          0.00023041491217718073,
          0.0002202681410750957,
          0.0003002172664184499,
          0.0002948941650193644,
          0.00024693470247867406,
          0.00021234922087967162,
          0.0004780837103682932
         ]
        }
       ],
       "layout": {
        "height": 500,
        "template": {
         "data": {
          "bar": [
           {
            "error_x": {
             "color": "#2a3f5f"
            },
            "error_y": {
             "color": "#2a3f5f"
            },
            "marker": {
             "line": {
              "color": "#E5ECF6",
              "width": 0.5
             }
            },
            "type": "bar"
           }
          ],
          "barpolar": [
           {
            "marker": {
             "line": {
              "color": "#E5ECF6",
              "width": 0.5
             }
            },
            "type": "barpolar"
           }
          ],
          "carpet": [
           {
            "aaxis": {
             "endlinecolor": "#2a3f5f",
             "gridcolor": "white",
             "linecolor": "white",
             "minorgridcolor": "white",
             "startlinecolor": "#2a3f5f"
            },
            "baxis": {
             "endlinecolor": "#2a3f5f",
             "gridcolor": "white",
             "linecolor": "white",
             "minorgridcolor": "white",
             "startlinecolor": "#2a3f5f"
            },
            "type": "carpet"
           }
          ],
          "choropleth": [
           {
            "colorbar": {
             "outlinewidth": 0,
             "ticks": ""
            },
            "type": "choropleth"
           }
          ],
          "contour": [
           {
            "colorbar": {
             "outlinewidth": 0,
             "ticks": ""
            },
            "colorscale": [
             [
              0,
              "#0d0887"
             ],
             [
              0.1111111111111111,
              "#46039f"
             ],
             [
              0.2222222222222222,
              "#7201a8"
             ],
             [
              0.3333333333333333,
              "#9c179e"
             ],
             [
              0.4444444444444444,
              "#bd3786"
             ],
             [
              0.5555555555555556,
              "#d8576b"
             ],
             [
              0.6666666666666666,
              "#ed7953"
             ],
             [
              0.7777777777777778,
              "#fb9f3a"
             ],
             [
              0.8888888888888888,
              "#fdca26"
             ],
             [
              1,
              "#f0f921"
             ]
            ],
            "type": "contour"
           }
          ],
          "contourcarpet": [
           {
            "colorbar": {
             "outlinewidth": 0,
             "ticks": ""
            },
            "type": "contourcarpet"
           }
          ],
          "heatmap": [
           {
            "colorbar": {
             "outlinewidth": 0,
             "ticks": ""
            },
            "colorscale": [
             [
              0,
              "#0d0887"
             ],
             [
              0.1111111111111111,
              "#46039f"
             ],
             [
              0.2222222222222222,
              "#7201a8"
             ],
             [
              0.3333333333333333,
              "#9c179e"
             ],
             [
              0.4444444444444444,
              "#bd3786"
             ],
             [
              0.5555555555555556,
              "#d8576b"
             ],
             [
              0.6666666666666666,
              "#ed7953"
             ],
             [
              0.7777777777777778,
              "#fb9f3a"
             ],
             [
              0.8888888888888888,
              "#fdca26"
             ],
             [
              1,
              "#f0f921"
             ]
            ],
            "type": "heatmap"
           }
          ],
          "heatmapgl": [
           {
            "colorbar": {
             "outlinewidth": 0,
             "ticks": ""
            },
            "colorscale": [
             [
              0,
              "#0d0887"
             ],
             [
              0.1111111111111111,
              "#46039f"
             ],
             [
              0.2222222222222222,
              "#7201a8"
             ],
             [
              0.3333333333333333,
              "#9c179e"
             ],
             [
              0.4444444444444444,
              "#bd3786"
             ],
             [
              0.5555555555555556,
              "#d8576b"
             ],
             [
              0.6666666666666666,
              "#ed7953"
             ],
             [
              0.7777777777777778,
              "#fb9f3a"
             ],
             [
              0.8888888888888888,
              "#fdca26"
             ],
             [
              1,
              "#f0f921"
             ]
            ],
            "type": "heatmapgl"
           }
          ],
          "histogram": [
           {
            "marker": {
             "colorbar": {
              "outlinewidth": 0,
              "ticks": ""
             }
            },
            "type": "histogram"
           }
          ],
          "histogram2d": [
           {
            "colorbar": {
             "outlinewidth": 0,
             "ticks": ""
            },
            "colorscale": [
             [
              0,
              "#0d0887"
             ],
             [
              0.1111111111111111,
              "#46039f"
             ],
             [
              0.2222222222222222,
              "#7201a8"
             ],
             [
              0.3333333333333333,
              "#9c179e"
             ],
             [
              0.4444444444444444,
              "#bd3786"
             ],
             [
              0.5555555555555556,
              "#d8576b"
             ],
             [
              0.6666666666666666,
              "#ed7953"
             ],
             [
              0.7777777777777778,
              "#fb9f3a"
             ],
             [
              0.8888888888888888,
              "#fdca26"
             ],
             [
              1,
              "#f0f921"
             ]
            ],
            "type": "histogram2d"
           }
          ],
          "histogram2dcontour": [
           {
            "colorbar": {
             "outlinewidth": 0,
             "ticks": ""
            },
            "colorscale": [
             [
              0,
              "#0d0887"
             ],
             [
              0.1111111111111111,
              "#46039f"
             ],
             [
              0.2222222222222222,
              "#7201a8"
             ],
             [
              0.3333333333333333,
              "#9c179e"
             ],
             [
              0.4444444444444444,
              "#bd3786"
             ],
             [
              0.5555555555555556,
              "#d8576b"
             ],
             [
              0.6666666666666666,
              "#ed7953"
             ],
             [
              0.7777777777777778,
              "#fb9f3a"
             ],
             [
              0.8888888888888888,
              "#fdca26"
             ],
             [
              1,
              "#f0f921"
             ]
            ],
            "type": "histogram2dcontour"
           }
          ],
          "mesh3d": [
           {
            "colorbar": {
             "outlinewidth": 0,
             "ticks": ""
            },
            "type": "mesh3d"
           }
          ],
          "parcoords": [
           {
            "line": {
             "colorbar": {
              "outlinewidth": 0,
              "ticks": ""
             }
            },
            "type": "parcoords"
           }
          ],
          "pie": [
           {
            "automargin": true,
            "type": "pie"
           }
          ],
          "scatter": [
           {
            "marker": {
             "colorbar": {
              "outlinewidth": 0,
              "ticks": ""
             }
            },
            "type": "scatter"
           }
          ],
          "scatter3d": [
           {
            "line": {
             "colorbar": {
              "outlinewidth": 0,
              "ticks": ""
             }
            },
            "marker": {
             "colorbar": {
              "outlinewidth": 0,
              "ticks": ""
             }
            },
            "type": "scatter3d"
           }
          ],
          "scattercarpet": [
           {
            "marker": {
             "colorbar": {
              "outlinewidth": 0,
              "ticks": ""
             }
            },
            "type": "scattercarpet"
           }
          ],
          "scattergeo": [
           {
            "marker": {
             "colorbar": {
              "outlinewidth": 0,
              "ticks": ""
             }
            },
            "type": "scattergeo"
           }
          ],
          "scattergl": [
           {
            "marker": {
             "colorbar": {
              "outlinewidth": 0,
              "ticks": ""
             }
            },
            "type": "scattergl"
           }
          ],
          "scattermapbox": [
           {
            "marker": {
             "colorbar": {
              "outlinewidth": 0,
              "ticks": ""
             }
            },
            "type": "scattermapbox"
           }
          ],
          "scatterpolar": [
           {
            "marker": {
             "colorbar": {
              "outlinewidth": 0,
              "ticks": ""
             }
            },
            "type": "scatterpolar"
           }
          ],
          "scatterpolargl": [
           {
            "marker": {
             "colorbar": {
              "outlinewidth": 0,
              "ticks": ""
             }
            },
            "type": "scatterpolargl"
           }
          ],
          "scatterternary": [
           {
            "marker": {
             "colorbar": {
              "outlinewidth": 0,
              "ticks": ""
             }
            },
            "type": "scatterternary"
           }
          ],
          "surface": [
           {
            "colorbar": {
             "outlinewidth": 0,
             "ticks": ""
            },
            "colorscale": [
             [
              0,
              "#0d0887"
             ],
             [
              0.1111111111111111,
              "#46039f"
             ],
             [
              0.2222222222222222,
              "#7201a8"
             ],
             [
              0.3333333333333333,
              "#9c179e"
             ],
             [
              0.4444444444444444,
              "#bd3786"
             ],
             [
              0.5555555555555556,
              "#d8576b"
             ],
             [
              0.6666666666666666,
              "#ed7953"
             ],
             [
              0.7777777777777778,
              "#fb9f3a"
             ],
             [
              0.8888888888888888,
              "#fdca26"
             ],
             [
              1,
              "#f0f921"
             ]
            ],
            "type": "surface"
           }
          ],
          "table": [
           {
            "cells": {
             "fill": {
              "color": "#EBF0F8"
             },
             "line": {
              "color": "white"
             }
            },
            "header": {
             "fill": {
              "color": "#C8D4E3"
             },
             "line": {
              "color": "white"
             }
            },
            "type": "table"
           }
          ]
         },
         "layout": {
          "annotationdefaults": {
           "arrowcolor": "#2a3f5f",
           "arrowhead": 0,
           "arrowwidth": 1
          },
          "autotypenumbers": "strict",
          "coloraxis": {
           "colorbar": {
            "outlinewidth": 0,
            "ticks": ""
           }
          },
          "colorscale": {
           "diverging": [
            [
             0,
             "#8e0152"
            ],
            [
             0.1,
             "#c51b7d"
            ],
            [
             0.2,
             "#de77ae"
            ],
            [
             0.3,
             "#f1b6da"
            ],
            [
             0.4,
             "#fde0ef"
            ],
            [
             0.5,
             "#f7f7f7"
            ],
            [
             0.6,
             "#e6f5d0"
            ],
            [
             0.7,
             "#b8e186"
            ],
            [
             0.8,
             "#7fbc41"
            ],
            [
             0.9,
             "#4d9221"
            ],
            [
             1,
             "#276419"
            ]
           ],
           "sequential": [
            [
             0,
             "#0d0887"
            ],
            [
             0.1111111111111111,
             "#46039f"
            ],
            [
             0.2222222222222222,
             "#7201a8"
            ],
            [
             0.3333333333333333,
             "#9c179e"
            ],
            [
             0.4444444444444444,
             "#bd3786"
            ],
            [
             0.5555555555555556,
             "#d8576b"
            ],
            [
             0.6666666666666666,
             "#ed7953"
            ],
            [
             0.7777777777777778,
             "#fb9f3a"
            ],
            [
             0.8888888888888888,
             "#fdca26"
            ],
            [
             1,
             "#f0f921"
            ]
           ],
           "sequentialminus": [
            [
             0,
             "#0d0887"
            ],
            [
             0.1111111111111111,
             "#46039f"
            ],
            [
             0.2222222222222222,
             "#7201a8"
            ],
            [
             0.3333333333333333,
             "#9c179e"
            ],
            [
             0.4444444444444444,
             "#bd3786"
            ],
            [
             0.5555555555555556,
             "#d8576b"
            ],
            [
             0.6666666666666666,
             "#ed7953"
            ],
            [
             0.7777777777777778,
             "#fb9f3a"
            ],
            [
             0.8888888888888888,
             "#fdca26"
            ],
            [
             1,
             "#f0f921"
            ]
           ]
          },
          "colorway": [
           "#636efa",
           "#EF553B",
           "#00cc96",
           "#ab63fa",
           "#FFA15A",
           "#19d3f3",
           "#FF6692",
           "#B6E880",
           "#FF97FF",
           "#FECB52"
          ],
          "font": {
           "color": "#2a3f5f"
          },
          "geo": {
           "bgcolor": "white",
           "lakecolor": "white",
           "landcolor": "#E5ECF6",
           "showlakes": true,
           "showland": true,
           "subunitcolor": "white"
          },
          "hoverlabel": {
           "align": "left"
          },
          "hovermode": "closest",
          "mapbox": {
           "style": "light"
          },
          "paper_bgcolor": "white",
          "plot_bgcolor": "#E5ECF6",
          "polar": {
           "angularaxis": {
            "gridcolor": "white",
            "linecolor": "white",
            "ticks": ""
           },
           "bgcolor": "#E5ECF6",
           "radialaxis": {
            "gridcolor": "white",
            "linecolor": "white",
            "ticks": ""
           }
          },
          "scene": {
           "xaxis": {
            "backgroundcolor": "#E5ECF6",
            "gridcolor": "white",
            "gridwidth": 2,
            "linecolor": "white",
            "showbackground": true,
            "ticks": "",
            "zerolinecolor": "white"
           },
           "yaxis": {
            "backgroundcolor": "#E5ECF6",
            "gridcolor": "white",
            "gridwidth": 2,
            "linecolor": "white",
            "showbackground": true,
            "ticks": "",
            "zerolinecolor": "white"
           },
           "zaxis": {
            "backgroundcolor": "#E5ECF6",
            "gridcolor": "white",
            "gridwidth": 2,
            "linecolor": "white",
            "showbackground": true,
            "ticks": "",
            "zerolinecolor": "white"
           }
          },
          "shapedefaults": {
           "line": {
            "color": "#2a3f5f"
           }
          },
          "ternary": {
           "aaxis": {
            "gridcolor": "white",
            "linecolor": "white",
            "ticks": ""
           },
           "baxis": {
            "gridcolor": "white",
            "linecolor": "white",
            "ticks": ""
           },
           "bgcolor": "#E5ECF6",
           "caxis": {
            "gridcolor": "white",
            "linecolor": "white",
            "ticks": ""
           }
          },
          "title": {
           "x": 0.05
          },
          "xaxis": {
           "automargin": true,
           "gridcolor": "white",
           "linecolor": "white",
           "ticks": "",
           "title": {
            "standoff": 15
           },
           "zerolinecolor": "white",
           "zerolinewidth": 2
          },
          "yaxis": {
           "automargin": true,
           "gridcolor": "white",
           "linecolor": "white",
           "ticks": "",
           "title": {
            "standoff": 15
           },
           "zerolinecolor": "white",
           "zerolinewidth": 2
          }
         }
        },
        "width": 700,
        "xaxis": {
         "title": {
          "text": "Epoch"
         }
        },
        "yaxis": {
         "title": {
          "text": "Mean Sqaured Error"
         }
        }
       }
      },
      "text/html": [
       "<div>                            <div id=\"b679bbd8-4c53-4dc8-8460-6256ef0aa830\" class=\"plotly-graph-div\" style=\"height:500px; width:700px;\"></div>            <script type=\"text/javascript\">                require([\"plotly\"], function(Plotly) {                    window.PLOTLYENV=window.PLOTLYENV || {};                                    if (document.getElementById(\"b679bbd8-4c53-4dc8-8460-6256ef0aa830\")) {                    Plotly.newPlot(                        \"b679bbd8-4c53-4dc8-8460-6256ef0aa830\",                        [{\"name\": \"Train\", \"type\": \"scattergl\", \"y\": [3.781242386297489, 0.30364996578346665, 0.23363448893086275, 0.2803013334221044, 0.2235507585842495, 0.22728120122083575, 0.2552143759072263, 0.24222624805567033, 0.19548619275010012, 0.19779034676189927, 0.19820480833776702, 0.18129128051220114, 0.1673300230584754, 0.17689160486500774, 0.1410534058966252, 0.13969233878940282, 0.12256875465605727, 0.11299920665032041, 0.10044421884608054, 0.08836208377768497, 0.07369052717623786, 0.07236927373431078, 0.06609724135559031, 0.042720871624157095, 0.04139359355503186, 0.035704474812684725, 0.03077782240084327, 0.02702499290860946, 0.021420450601443552, 0.015284715883311966, 0.012990801574365081, 0.010182626602874051, 0.008667486181483212, 0.006144194582623677, 0.005723878900356573, 0.00422015781272345, 0.0024088289877161424, 0.002509881954566277, 0.0018652186652316867, 0.0015634887559880827, 0.0014089495396265416, 0.0012845281580765558, 0.0012333042752320884, 0.0010025173614053833, 0.001101700158210931, 0.0011352197691254292, 0.0009969573699380222, 0.001017327513206056, 0.0008764707564806553, 0.0009079062545428759, 0.0009660433910000124, 0.0009672887817480326, 0.000992687430269801, 0.0009121073519629099, 0.0009421947221255173, 0.0008572597582919609, 0.000988948968348101, 0.0008238597202035897, 0.0008561319013075754, 0.0008554354321549957, 0.0009133876170611721, 0.0009043641819163939, 0.0009116033968634056, 0.0007943454721426207, 0.000874546823047653, 0.0008270313468767036, 0.0009535515554800285, 0.0008980153515715718, 0.0008647753741354146, 0.0007055194021638951, 0.000789646973992829, 0.0009269491367065801, 0.0009016644897557728, 0.0007458976427672215, 0.0007809733382457002, 0.0007512674861220982, 0.0009297562525847371, 0.0009098337984840074, 0.0009062938479252548, 0.0009166026717194755, 0.000915677960268235, 0.0008446793756964609, 0.0009144664276408126, 0.0008393451851481698, 0.0008253145093935232, 0.0009691165610625946, 0.0008544918332766073, 0.0008992992190838488, 0.0008659591519626713, 0.0007093018226367119, 0.0008331395499048741, 0.000894305515324898, 0.0008364697217258318, 0.0009371811579345786, 0.0009071100444981734, 0.0009836200468279965, 0.0007192334941814396, 0.0007044004344778625, 0.0006676828500476777, 0.0008054654089824049]}, {\"name\": \"Validation\", \"type\": \"scattergl\", \"y\": [0.05015979727961097, 0.011721806600689888, 0.00784782030018584, 0.006295042135132215, 0.00469642581778599, 0.0043468003388956135, 0.003509083002760385, 0.0028565557730769434, 0.0028381639385222524, 0.0023993237558126383, 0.004879754744060035, 0.005139013910979067, 0.002358270908877478, 0.0017895844348448384, 0.006313928825994425, 0.0012110189418982917, 0.0015603950803479997, 0.002351654883687787, 0.0021798453131325864, 0.0009382375940110702, 0.0013423453045734836, 0.0009556548263357471, 0.0010320724542268907, 0.0009178007559781746, 0.0014216524553145276, 0.0009554031631193822, 0.0016949785519056757, 0.0011289195541501788, 0.0014539961720658153, 0.0015053866241722953, 0.0016117056446993854, 0.0010047822244797736, 0.0009374042791756882, 0.001005360644056029, 0.0018699758483511357, 0.0007114441764404995, 0.0006045700275627324, 0.0005161013348440306, 0.0004730903940665971, 0.0006608499880035128, 0.0005639363821517127, 0.0005199220226424706, 0.0004908504080688872, 0.0003999036441094146, 0.00039824921353007875, 0.00037292112211339596, 0.0003916451081631949, 0.0004827660369645774, 0.00034537849818175033, 0.0004017822839549569, 0.000511499199350413, 0.00039899973272289845, 0.0003276313452734283, 0.00031776270642782197, 0.0003174603506283314, 0.00027055932975240347, 0.00026265090850245546, 0.00028278035896011174, 0.00026472775475810007, 0.00043918869109702355, 0.000360638048260517, 0.00025825427616741356, 0.0002675981168836994, 0.00026769209915512, 0.0005073337139872573, 0.0002711780688074943, 0.0002336063094836145, 0.00027946160421900984, 0.0003682458069435022, 0.00028401249663543866, 0.0002924991234490024, 0.0002643155273447204, 0.0006721093696256104, 0.00023087041671665737, 0.00024314197460874733, 0.00022597800545232007, 0.00024676338156662573, 0.0002961507405201351, 0.0002337341288193415, 0.0003105286477907396, 0.00044376985466718533, 0.00031180483217433156, 0.00023155589805506409, 0.00024312703474923896, 0.00022785954084233862, 0.00030324621462486553, 0.0002709577374665071, 0.0003021221390336122, 0.00025275941090812087, 0.00045749434448836906, 0.00022336819096789983, 0.00024147980089292905, 0.00024683444367787507, 0.00023041491217718073, 0.0002202681410750957, 0.0003002172664184499, 0.0002948941650193644, 0.00024693470247867406, 0.00021234922087967162, 0.0004780837103682932]}],                        {\"height\": 500, \"template\": {\"data\": {\"bar\": [{\"error_x\": {\"color\": \"#2a3f5f\"}, \"error_y\": {\"color\": \"#2a3f5f\"}, \"marker\": {\"line\": {\"color\": \"#E5ECF6\", \"width\": 0.5}}, \"type\": \"bar\"}], \"barpolar\": [{\"marker\": {\"line\": {\"color\": \"#E5ECF6\", \"width\": 0.5}}, \"type\": \"barpolar\"}], \"carpet\": [{\"aaxis\": {\"endlinecolor\": \"#2a3f5f\", \"gridcolor\": \"white\", \"linecolor\": \"white\", \"minorgridcolor\": \"white\", \"startlinecolor\": \"#2a3f5f\"}, \"baxis\": {\"endlinecolor\": \"#2a3f5f\", \"gridcolor\": \"white\", \"linecolor\": \"white\", \"minorgridcolor\": \"white\", \"startlinecolor\": \"#2a3f5f\"}, \"type\": \"carpet\"}], \"choropleth\": [{\"colorbar\": {\"outlinewidth\": 0, \"ticks\": \"\"}, \"type\": \"choropleth\"}], \"contour\": [{\"colorbar\": {\"outlinewidth\": 0, \"ticks\": \"\"}, \"colorscale\": [[0.0, \"#0d0887\"], [0.1111111111111111, \"#46039f\"], [0.2222222222222222, \"#7201a8\"], [0.3333333333333333, \"#9c179e\"], [0.4444444444444444, \"#bd3786\"], [0.5555555555555556, \"#d8576b\"], [0.6666666666666666, \"#ed7953\"], [0.7777777777777778, \"#fb9f3a\"], [0.8888888888888888, \"#fdca26\"], [1.0, \"#f0f921\"]], \"type\": \"contour\"}], \"contourcarpet\": [{\"colorbar\": {\"outlinewidth\": 0, \"ticks\": \"\"}, \"type\": \"contourcarpet\"}], \"heatmap\": [{\"colorbar\": {\"outlinewidth\": 0, \"ticks\": \"\"}, \"colorscale\": [[0.0, \"#0d0887\"], [0.1111111111111111, \"#46039f\"], [0.2222222222222222, \"#7201a8\"], [0.3333333333333333, \"#9c179e\"], [0.4444444444444444, \"#bd3786\"], [0.5555555555555556, \"#d8576b\"], [0.6666666666666666, \"#ed7953\"], [0.7777777777777778, \"#fb9f3a\"], [0.8888888888888888, \"#fdca26\"], [1.0, \"#f0f921\"]], \"type\": \"heatmap\"}], \"heatmapgl\": [{\"colorbar\": {\"outlinewidth\": 0, \"ticks\": \"\"}, \"colorscale\": [[0.0, \"#0d0887\"], [0.1111111111111111, \"#46039f\"], [0.2222222222222222, \"#7201a8\"], [0.3333333333333333, \"#9c179e\"], [0.4444444444444444, \"#bd3786\"], [0.5555555555555556, \"#d8576b\"], [0.6666666666666666, \"#ed7953\"], [0.7777777777777778, \"#fb9f3a\"], [0.8888888888888888, \"#fdca26\"], [1.0, \"#f0f921\"]], \"type\": \"heatmapgl\"}], \"histogram\": [{\"marker\": {\"colorbar\": {\"outlinewidth\": 0, \"ticks\": \"\"}}, \"type\": \"histogram\"}], \"histogram2d\": [{\"colorbar\": {\"outlinewidth\": 0, \"ticks\": \"\"}, \"colorscale\": [[0.0, \"#0d0887\"], [0.1111111111111111, \"#46039f\"], [0.2222222222222222, \"#7201a8\"], [0.3333333333333333, \"#9c179e\"], [0.4444444444444444, \"#bd3786\"], [0.5555555555555556, \"#d8576b\"], [0.6666666666666666, \"#ed7953\"], [0.7777777777777778, \"#fb9f3a\"], [0.8888888888888888, \"#fdca26\"], [1.0, \"#f0f921\"]], \"type\": \"histogram2d\"}], \"histogram2dcontour\": [{\"colorbar\": {\"outlinewidth\": 0, \"ticks\": \"\"}, \"colorscale\": [[0.0, \"#0d0887\"], [0.1111111111111111, \"#46039f\"], [0.2222222222222222, \"#7201a8\"], [0.3333333333333333, \"#9c179e\"], [0.4444444444444444, \"#bd3786\"], [0.5555555555555556, \"#d8576b\"], [0.6666666666666666, \"#ed7953\"], [0.7777777777777778, \"#fb9f3a\"], [0.8888888888888888, \"#fdca26\"], [1.0, \"#f0f921\"]], \"type\": \"histogram2dcontour\"}], \"mesh3d\": [{\"colorbar\": {\"outlinewidth\": 0, \"ticks\": \"\"}, \"type\": \"mesh3d\"}], \"parcoords\": [{\"line\": {\"colorbar\": {\"outlinewidth\": 0, \"ticks\": \"\"}}, \"type\": \"parcoords\"}], \"pie\": [{\"automargin\": true, \"type\": \"pie\"}], \"scatter\": [{\"marker\": {\"colorbar\": {\"outlinewidth\": 0, \"ticks\": \"\"}}, \"type\": \"scatter\"}], \"scatter3d\": [{\"line\": {\"colorbar\": {\"outlinewidth\": 0, \"ticks\": \"\"}}, \"marker\": {\"colorbar\": {\"outlinewidth\": 0, \"ticks\": \"\"}}, \"type\": \"scatter3d\"}], \"scattercarpet\": [{\"marker\": {\"colorbar\": {\"outlinewidth\": 0, \"ticks\": \"\"}}, \"type\": \"scattercarpet\"}], \"scattergeo\": [{\"marker\": {\"colorbar\": {\"outlinewidth\": 0, \"ticks\": \"\"}}, \"type\": \"scattergeo\"}], \"scattergl\": [{\"marker\": {\"colorbar\": {\"outlinewidth\": 0, \"ticks\": \"\"}}, \"type\": \"scattergl\"}], \"scattermapbox\": [{\"marker\": {\"colorbar\": {\"outlinewidth\": 0, \"ticks\": \"\"}}, \"type\": \"scattermapbox\"}], \"scatterpolar\": [{\"marker\": {\"colorbar\": {\"outlinewidth\": 0, \"ticks\": \"\"}}, \"type\": \"scatterpolar\"}], \"scatterpolargl\": [{\"marker\": {\"colorbar\": {\"outlinewidth\": 0, \"ticks\": \"\"}}, \"type\": \"scatterpolargl\"}], \"scatterternary\": [{\"marker\": {\"colorbar\": {\"outlinewidth\": 0, \"ticks\": \"\"}}, \"type\": \"scatterternary\"}], \"surface\": [{\"colorbar\": {\"outlinewidth\": 0, \"ticks\": \"\"}, \"colorscale\": [[0.0, \"#0d0887\"], [0.1111111111111111, \"#46039f\"], [0.2222222222222222, \"#7201a8\"], [0.3333333333333333, \"#9c179e\"], [0.4444444444444444, \"#bd3786\"], [0.5555555555555556, \"#d8576b\"], [0.6666666666666666, \"#ed7953\"], [0.7777777777777778, \"#fb9f3a\"], [0.8888888888888888, \"#fdca26\"], [1.0, \"#f0f921\"]], \"type\": \"surface\"}], \"table\": [{\"cells\": {\"fill\": {\"color\": \"#EBF0F8\"}, \"line\": {\"color\": \"white\"}}, \"header\": {\"fill\": {\"color\": \"#C8D4E3\"}, \"line\": {\"color\": \"white\"}}, \"type\": \"table\"}]}, \"layout\": {\"annotationdefaults\": {\"arrowcolor\": \"#2a3f5f\", \"arrowhead\": 0, \"arrowwidth\": 1}, \"autotypenumbers\": \"strict\", \"coloraxis\": {\"colorbar\": {\"outlinewidth\": 0, \"ticks\": \"\"}}, \"colorscale\": {\"diverging\": [[0, \"#8e0152\"], [0.1, \"#c51b7d\"], [0.2, \"#de77ae\"], [0.3, \"#f1b6da\"], [0.4, \"#fde0ef\"], [0.5, \"#f7f7f7\"], [0.6, \"#e6f5d0\"], [0.7, \"#b8e186\"], [0.8, \"#7fbc41\"], [0.9, \"#4d9221\"], [1, \"#276419\"]], \"sequential\": [[0.0, \"#0d0887\"], [0.1111111111111111, \"#46039f\"], [0.2222222222222222, \"#7201a8\"], [0.3333333333333333, \"#9c179e\"], [0.4444444444444444, \"#bd3786\"], [0.5555555555555556, \"#d8576b\"], [0.6666666666666666, \"#ed7953\"], [0.7777777777777778, \"#fb9f3a\"], [0.8888888888888888, \"#fdca26\"], [1.0, \"#f0f921\"]], \"sequentialminus\": [[0.0, \"#0d0887\"], [0.1111111111111111, \"#46039f\"], [0.2222222222222222, \"#7201a8\"], [0.3333333333333333, \"#9c179e\"], [0.4444444444444444, \"#bd3786\"], [0.5555555555555556, \"#d8576b\"], [0.6666666666666666, \"#ed7953\"], [0.7777777777777778, \"#fb9f3a\"], [0.8888888888888888, \"#fdca26\"], [1.0, \"#f0f921\"]]}, \"colorway\": [\"#636efa\", \"#EF553B\", \"#00cc96\", \"#ab63fa\", \"#FFA15A\", \"#19d3f3\", \"#FF6692\", \"#B6E880\", \"#FF97FF\", \"#FECB52\"], \"font\": {\"color\": \"#2a3f5f\"}, \"geo\": {\"bgcolor\": \"white\", \"lakecolor\": \"white\", \"landcolor\": \"#E5ECF6\", \"showlakes\": true, \"showland\": true, \"subunitcolor\": \"white\"}, \"hoverlabel\": {\"align\": \"left\"}, \"hovermode\": \"closest\", \"mapbox\": {\"style\": \"light\"}, \"paper_bgcolor\": \"white\", \"plot_bgcolor\": \"#E5ECF6\", \"polar\": {\"angularaxis\": {\"gridcolor\": \"white\", \"linecolor\": \"white\", \"ticks\": \"\"}, \"bgcolor\": \"#E5ECF6\", \"radialaxis\": {\"gridcolor\": \"white\", \"linecolor\": \"white\", \"ticks\": \"\"}}, \"scene\": {\"xaxis\": {\"backgroundcolor\": \"#E5ECF6\", \"gridcolor\": \"white\", \"gridwidth\": 2, \"linecolor\": \"white\", \"showbackground\": true, \"ticks\": \"\", \"zerolinecolor\": \"white\"}, \"yaxis\": {\"backgroundcolor\": \"#E5ECF6\", \"gridcolor\": \"white\", \"gridwidth\": 2, \"linecolor\": \"white\", \"showbackground\": true, \"ticks\": \"\", \"zerolinecolor\": \"white\"}, \"zaxis\": {\"backgroundcolor\": \"#E5ECF6\", \"gridcolor\": \"white\", \"gridwidth\": 2, \"linecolor\": \"white\", \"showbackground\": true, \"ticks\": \"\", \"zerolinecolor\": \"white\"}}, \"shapedefaults\": {\"line\": {\"color\": \"#2a3f5f\"}}, \"ternary\": {\"aaxis\": {\"gridcolor\": \"white\", \"linecolor\": \"white\", \"ticks\": \"\"}, \"baxis\": {\"gridcolor\": \"white\", \"linecolor\": \"white\", \"ticks\": \"\"}, \"bgcolor\": \"#E5ECF6\", \"caxis\": {\"gridcolor\": \"white\", \"linecolor\": \"white\", \"ticks\": \"\"}}, \"title\": {\"x\": 0.05}, \"xaxis\": {\"automargin\": true, \"gridcolor\": \"white\", \"linecolor\": \"white\", \"ticks\": \"\", \"title\": {\"standoff\": 15}, \"zerolinecolor\": \"white\", \"zerolinewidth\": 2}, \"yaxis\": {\"automargin\": true, \"gridcolor\": \"white\", \"linecolor\": \"white\", \"ticks\": \"\", \"title\": {\"standoff\": 15}, \"zerolinecolor\": \"white\", \"zerolinewidth\": 2}}}, \"width\": 700, \"xaxis\": {\"title\": {\"text\": \"Epoch\"}}, \"yaxis\": {\"title\": {\"text\": \"Mean Sqaured Error\"}}},                        {\"responsive\": true}                    ).then(function(){\n",
       "                            \n",
       "var gd = document.getElementById('b679bbd8-4c53-4dc8-8460-6256ef0aa830');\n",
       "var x = new MutationObserver(function (mutations, observer) {{\n",
       "        var display = window.getComputedStyle(gd).display;\n",
       "        if (!display || display === 'none') {{\n",
       "            console.log([gd, 'removed!']);\n",
       "            Plotly.purge(gd);\n",
       "            observer.disconnect();\n",
       "        }}\n",
       "}});\n",
       "\n",
       "// Listen for the removal of the full notebook cells\n",
       "var notebookContainer = gd.closest('#notebook-container');\n",
       "if (notebookContainer) {{\n",
       "    x.observe(notebookContainer, {childList: true});\n",
       "}}\n",
       "\n",
       "// Listen for the clearing of the current output cell\n",
       "var outputEl = gd.closest('.output');\n",
       "if (outputEl) {{\n",
       "    x.observe(outputEl, {childList: true});\n",
       "}}\n",
       "\n",
       "                        })                };                });            </script>        </div>"
      ]
     },
     "metadata": {},
     "output_type": "display_data"
    }
   ],
   "source": [
    "##########################################################################\n",
    "#                  PLOTTING CITY DNN MODEL PERFORMANCE\n",
    "##########################################################################\n",
    "\n",
    "fig = go.Figure()\n",
    "fig.add_trace(go.Scattergl(y=history.history['loss'],\n",
    "                    name='Train'))\n",
    "fig.add_trace(go.Scattergl(y=history.history['val_loss'],\n",
    "                    name='Validation'))\n",
    "fig.update_layout(height=500, width=700,\n",
    "                  xaxis_title='Epoch',\n",
    "                  yaxis_title='Mean Sqaured Error')\n",
    "fig.show() "
   ]
  },
  {
   "cell_type": "code",
   "execution_count": 107,
   "metadata": {},
   "outputs": [],
   "source": [
    "from ann_visualizer.visualize import ann_viz\n",
    "\n",
    "ann_viz(classifier, view=True, filename='City_DNN.gv', title='City Deep Neural Network')"
   ]
  },
  {
   "cell_type": "code",
   "execution_count": 108,
   "metadata": {},
   "outputs": [
    {
     "name": "stdout",
     "output_type": "stream",
     "text": [
      "Model: \"sequential_39\"\n",
      "_________________________________________________________________\n",
      "Layer (type)                 Output Shape              Param #   \n",
      "=================================================================\n",
      "dense_195 (Dense)            (None, 64)                704       \n",
      "_________________________________________________________________\n",
      "dense_196 (Dense)            (None, 16)                1040      \n",
      "_________________________________________________________________\n",
      "dense_197 (Dense)            (None, 8)                 136       \n",
      "_________________________________________________________________\n",
      "dense_198 (Dense)            (None, 1)                 9         \n",
      "_________________________________________________________________\n",
      "dropout_39 (Dropout)         (None, 1)                 0         \n",
      "_________________________________________________________________\n",
      "dense_199 (Dense)            (None, 1)                 2         \n",
      "=================================================================\n",
      "Total params: 1,891\n",
      "Trainable params: 1,891\n",
      "Non-trainable params: 0\n",
      "_________________________________________________________________\n",
      "None\n"
     ]
    }
   ],
   "source": [
    "# Model Summary\n",
    "\n",
    "print(classifier.summary())"
   ]
  },
  {
   "cell_type": "markdown",
   "metadata": {},
   "source": [
    "# (b) Highway Mileage CO2 Prediction"
   ]
  },
  {
   "cell_type": "code",
   "execution_count": 111,
   "metadata": {},
   "outputs": [],
   "source": [
    "df1 = pd.read_csv('CO2_Cleaned.csv')\n",
    "\n",
    "\n",
    "df1 = df1.drop(['City_Mileage', 'Min_Wght'], axis = 1)\n",
    "\n",
    "target_col = \"CO2\"\n",
    "\n",
    "x1 = df1.loc[:, df1.columns != target_col].values\n",
    "y1 = df1.loc[:, target_col].values"
   ]
  },
  {
   "cell_type": "code",
   "execution_count": 112,
   "metadata": {},
   "outputs": [
    {
     "name": "stdout",
     "output_type": "stream",
     "text": [
      "Fold #1\n",
      "Fold Score (R2): 0.9979511706784369\n",
      "Fold Score (MSE): 0.0001122265345628082\n",
      "Fold Score (RMSE): 0.01059370258987896\n",
      "Fold #2\n",
      "Fold Score (R2): 0.994896769835043\n",
      "Fold Score (MSE): 0.00028749078062875706\n",
      "Fold Score (RMSE): 0.016955553091207526\n",
      "Fold #3\n",
      "Fold Score (R2): 0.9955853249065963\n",
      "Fold Score (MSE): 0.00023385124307864262\n",
      "Fold Score (RMSE): 0.015292195495697884\n",
      "Fold #4\n",
      "Fold Score (R2): 0.9970286989310312\n",
      "Fold Score (MSE): 0.00016343722421561867\n",
      "Fold Score (RMSE): 0.012784256889456605\n",
      "Fold #5\n",
      "Fold Score (R2): 0.9945165376638746\n",
      "Fold Score (MSE): 0.000297516834226123\n",
      "Fold Score (RMSE): 0.017248676303592777\n",
      "\n",
      "Cross-validated (R2): 0.995998818886771\n",
      "Cross-validated (MSE): 0.00021890318261298268\n",
      "Cross-validated Score (RMSE): 0.014795377068969303\n",
      "Holdout (R2): 0.993904685274216\n",
      "Holdout (MSE): 0.00034578542146191846\n",
      "Holdout Score (RMSE): 0.018595306436354268\n"
     ]
    }
   ],
   "source": [
    "from sklearn.model_selection import train_test_split\n",
    "import pandas as pd\n",
    "import os\n",
    "import numpy as np\n",
    "from sklearn import metrics\n",
    "from scipy.stats import zscore\n",
    "from sklearn.model_selection import KFold\n",
    "\n",
    "# Keep a 10% holdout\n",
    "x_main, x_holdout, y_main, y_holdout = train_test_split(    \n",
    "    x1, y1, test_size=0.10) \n",
    "\n",
    "##########################################################################\n",
    "#                   CROSS-VALIDATION WITH KFOLD \n",
    "##########################################################################\n",
    "\n",
    "kf = KFold(5)\n",
    "    \n",
    "oos_y = []\n",
    "oos_pred = []\n",
    "fold = 0\n",
    "for train, test in kf.split(x_main):        \n",
    "    fold+=1\n",
    "    print(f\"Fold #{fold}\")\n",
    "        \n",
    "    x_train = x_main[train]\n",
    "    y_train = y_main[train]\n",
    "    x_test = x_main[test]\n",
    "    y_test = y_main[test]\n",
    "    \n",
    "    tf.keras.mixed_precision.experimental.set_policy('float64')\n",
    "    np.random.seed(10)\n",
    "    classifier = Sequential()\n",
    "\n",
    "    #Defining Model\n",
    "    classifier.add(Dense(64, kernel_initializer = 'uniform', activation = 'relu', input_dim = x1.shape[1])) \n",
    "    classifier.add(layers.Dense(16, activation='relu'))\n",
    "    classifier.add(layers.Dense(8, activation='relu'))\n",
    "    classifier.add(Dense(1, kernel_initializer = 'uniform'))\n",
    "    classifier.add(layers.Dropout(0.01))\n",
    "    classifier.add(layers.Dense(1))\n",
    "    \n",
    "    classifier.compile(optimizer = 'adam', loss = 'mean_squared_error')        \n",
    "    \n",
    "    \n",
    "    history = classifier.fit(x_train,y_train,validation_data=(x_test, y_test),\n",
    "              verbose=0,epochs=100)\n",
    "    \n",
    "    pred = classifier.predict(x_test)\n",
    "    \n",
    "    oos_y.append(y_test)\n",
    "    oos_pred.append(pred) \n",
    "\n",
    "##########################################################################\n",
    "#                  MEASURE EVALUATION: R2 + MSE + RMSE\n",
    "##########################################################################\n",
    "\n",
    "    #1. Root Sqaured Error\n",
    "    R2 = r2_score(pred,y_test)\n",
    "    print(f\"Fold Score (R2): {R2}\")\n",
    "    \n",
    "    #2. Mean Squared Error\n",
    "    MSE = mean_squared_error(pred,y_test)\n",
    "    print(f\"Fold Score (MSE): {MSE}\")\n",
    "\n",
    "    #3. Root Mean Sqaured Error\n",
    "    RMSE = np.sqrt(metrics.mean_squared_error(pred,y_test))\n",
    "    print(f\"Fold Score (RMSE): {RMSE}\")\n",
    "    \n",
    "##########################################################################\n",
    "#            Create OOS Predictions & Measure Errors\n",
    "##########################################################################\n",
    "\n",
    "oos_y = np.concatenate(oos_y)\n",
    "oos_pred = np.concatenate(oos_pred)\n",
    "\n",
    "RMSE = np.sqrt(metrics.mean_squared_error(oos_pred,oos_y))\n",
    "\n",
    "R2 = r2_score(oos_pred,oos_y)\n",
    "\n",
    "MSE = mean_squared_error(oos_pred,oos_y)\n",
    "\n",
    "print()\n",
    "print(f\"Cross-validated (R2): {R2}\")\n",
    "print(f\"Cross-validated (MSE): {MSE}\")\n",
    "print(f\"Cross-validated Score (RMSE): {RMSE}\")   \n",
    "    \n",
    "##########################################################################\n",
    "#              Cross-Validated Prediction\n",
    "##########################################################################\n",
    "\n",
    "holdout_pred = classifier.predict(x_holdout)\n",
    "\n",
    "R2 = r2_score(holdout_pred,y_holdout)\n",
    "print(f\"Holdout (R2): {R2}\")\n",
    "\n",
    "MSE = mean_squared_error(holdout_pred,y_holdout)\n",
    "print(f\"Holdout (MSE): {MSE}\")\n",
    "\n",
    "RMSE = np.sqrt(metrics.mean_squared_error(holdout_pred,y_holdout))\n",
    "print(f\"Holdout Score (RMSE): {RMSE}\")\n",
    "\n",
    "# Write the cross-validated prediction\n",
    "oos_y = pd.DataFrame(oos_y)\n",
    "oos_pred = pd.DataFrame(oos_pred)\n",
    "\n",
    "oosDF = pd.concat( [oos_y, oos_pred],axis=1 )\n",
    "oosDF.to_csv('Hway_CO2_Prediction.csv',index=False)"
   ]
  },
  {
   "cell_type": "code",
   "execution_count": null,
   "metadata": {},
   "outputs": [],
   "source": [
    "##########################################################################\n",
    "#                  PLOTTING HIGHWAY DNN MODEL PERFORMANCE\n",
    "##########################################################################\n",
    "\n",
    "fig = go.Figure()\n",
    "fig.add_trace(go.Scattergl(y=history.history['loss'],\n",
    "                    name='Train'))\n",
    "fig.add_trace(go.Scattergl(y=history.history['val_loss'],\n",
    "                    name='Validation'))\n",
    "fig.update_layout(height=500, width=700,\n",
    "                  xaxis_title='Epoch',\n",
    "                  yaxis_title='Mean Sqaured Error')\n",
    "fig.show() "
   ]
  },
  {
   "cell_type": "code",
   "execution_count": 113,
   "metadata": {},
   "outputs": [
    {
     "name": "stdout",
     "output_type": "stream",
     "text": [
      "Model: \"sequential_46\"\n",
      "_________________________________________________________________\n",
      "Layer (type)                 Output Shape              Param #   \n",
      "=================================================================\n",
      "dense_230 (Dense)            (None, 64)                704       \n",
      "_________________________________________________________________\n",
      "dense_231 (Dense)            (None, 16)                1040      \n",
      "_________________________________________________________________\n",
      "dense_232 (Dense)            (None, 8)                 136       \n",
      "_________________________________________________________________\n",
      "dense_233 (Dense)            (None, 1)                 9         \n",
      "_________________________________________________________________\n",
      "dropout_46 (Dropout)         (None, 1)                 0         \n",
      "_________________________________________________________________\n",
      "dense_234 (Dense)            (None, 1)                 2         \n",
      "=================================================================\n",
      "Total params: 1,891\n",
      "Trainable params: 1,891\n",
      "Non-trainable params: 0\n",
      "_________________________________________________________________\n",
      "None\n"
     ]
    }
   ],
   "source": [
    "Hi"
   ]
  },
  {
   "cell_type": "markdown",
   "metadata": {},
   "source": [
    "# Calculate Difference in CO2 Between City and Highway Predictions"
   ]
  },
  {
   "cell_type": "markdown",
   "metadata": {},
   "source": [
    "Rename Columns in City Predictions"
   ]
  },
  {
   "cell_type": "code",
   "execution_count": 90,
   "metadata": {},
   "outputs": [],
   "source": [
    "City = pd.read_csv('City_CO2_Prediction.csv')\n",
    "\n",
    "City = pd.DataFrame(City) "
   ]
  },
  {
   "cell_type": "code",
   "execution_count": 91,
   "metadata": {},
   "outputs": [],
   "source": [
    "Highway= pd.read_csv('Hway_CO2_Prediction.csv')\n",
    "\n",
    "Highway = pd.DataFrame(Highway) "
   ]
  },
  {
   "cell_type": "code",
   "execution_count": 92,
   "metadata": {},
   "outputs": [],
   "source": [
    "#Substracting Highway Predictions from City Predictions \n",
    "\n",
    "CO2_Savings = City - Highway\n",
    "# Renaming the Columns to more meaningful names\n",
    "CO2_Savings = CO2_Savings.rename(columns = {'0':'Prediction_OO', '0.1':'Prediction_Actual'})"
   ]
  },
  {
   "cell_type": "markdown",
   "metadata": {},
   "source": [
    "# <span style=\"color:red\">SAVING PREDICTED CO2 SAVINGS</span> "
   ]
  },
  {
   "cell_type": "code",
   "execution_count": 93,
   "metadata": {},
   "outputs": [],
   "source": [
    "CO2_Savings.to_csv('CO2_Savings.csv',index=False)\n",
    "\n",
    "\n"
   ]
  }
 ],
 "metadata": {
  "kernelspec": {
   "display_name": "Python 3",
   "language": "python",
   "name": "python3"
  },
  "language_info": {
   "codemirror_mode": {
    "name": "ipython",
    "version": 3
   },
   "file_extension": ".py",
   "mimetype": "text/x-python",
   "name": "python",
   "nbconvert_exporter": "python",
   "pygments_lexer": "ipython3",
   "version": "3.8.5"
  }
 },
 "nbformat": 4,
 "nbformat_minor": 4
}
